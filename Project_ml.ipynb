{
 "cells": [
  {
   "cell_type": "code",
   "execution_count": 1,
   "id": "cc4fc234",
   "metadata": {},
   "outputs": [],
   "source": [
    "import numpy as np\n",
    "import pandas as pd"
   ]
  },
  {
   "cell_type": "code",
   "execution_count": 2,
   "id": "e3790084",
   "metadata": {},
   "outputs": [],
   "source": [
    "df = pd.read_csv(\"PreProcessedData.csv\")"
   ]
  },
  {
   "cell_type": "code",
   "execution_count": 3,
   "id": "b117d0e7",
   "metadata": {},
   "outputs": [
    {
     "data": {
      "text/html": [
       "<div>\n",
       "<style scoped>\n",
       "    .dataframe tbody tr th:only-of-type {\n",
       "        vertical-align: middle;\n",
       "    }\n",
       "\n",
       "    .dataframe tbody tr th {\n",
       "        vertical-align: top;\n",
       "    }\n",
       "\n",
       "    .dataframe thead th {\n",
       "        text-align: right;\n",
       "    }\n",
       "</style>\n",
       "<table border=\"1\" class=\"dataframe\">\n",
       "  <thead>\n",
       "    <tr style=\"text-align: right;\">\n",
       "      <th></th>\n",
       "      <th>Unnamed: 0</th>\n",
       "      <th>title</th>\n",
       "      <th>text</th>\n",
       "      <th>Ground Label</th>\n",
       "    </tr>\n",
       "  </thead>\n",
       "  <tbody>\n",
       "    <tr>\n",
       "      <th>0</th>\n",
       "      <td>0</td>\n",
       "      <td>Ann Coulter Make Believes She Has ‘Gay Friend...</td>\n",
       "      <td>It s hard to believe, but Donald Trump does ha...</td>\n",
       "      <td>fake</td>\n",
       "    </tr>\n",
       "    <tr>\n",
       "      <th>1</th>\n",
       "      <td>1</td>\n",
       "      <td>Rating: Moody‘s verbessert Ausblick für Russla...</td>\n",
       "      <td>bankensektor Der russische Staat werde die Ban...</td>\n",
       "      <td>fake</td>\n",
       "    </tr>\n",
       "    <tr>\n",
       "      <th>2</th>\n",
       "      <td>2</td>\n",
       "      <td>CAN WE ADD DIRTY MONEY ‘LAUNDERING’ To The Oba...</td>\n",
       "      <td>A member of the House Intelligence Committee i...</td>\n",
       "      <td>fake</td>\n",
       "    </tr>\n",
       "    <tr>\n",
       "      <th>3</th>\n",
       "      <td>3</td>\n",
       "      <td>Republicans on Obamacare repeal: 'We're going ...</td>\n",
       "      <td>WASHINGTON (Reuters) - House of Representative...</td>\n",
       "      <td>true</td>\n",
       "    </tr>\n",
       "    <tr>\n",
       "      <th>4</th>\n",
       "      <td>4</td>\n",
       "      <td>Trump, on possible DACA deal, says border wall...</td>\n",
       "      <td>WASHINGTON (Reuters) - U.S. President Donald T...</td>\n",
       "      <td>true</td>\n",
       "    </tr>\n",
       "  </tbody>\n",
       "</table>\n",
       "</div>"
      ],
      "text/plain": [
       "   Unnamed: 0                                              title  \\\n",
       "0           0   Ann Coulter Make Believes She Has ‘Gay Friend...   \n",
       "1           1  Rating: Moody‘s verbessert Ausblick für Russla...   \n",
       "2           2  CAN WE ADD DIRTY MONEY ‘LAUNDERING’ To The Oba...   \n",
       "3           3  Republicans on Obamacare repeal: 'We're going ...   \n",
       "4           4  Trump, on possible DACA deal, says border wall...   \n",
       "\n",
       "                                                text Ground Label  \n",
       "0  It s hard to believe, but Donald Trump does ha...         fake  \n",
       "1  bankensektor Der russische Staat werde die Ban...         fake  \n",
       "2  A member of the House Intelligence Committee i...         fake  \n",
       "3  WASHINGTON (Reuters) - House of Representative...         true  \n",
       "4  WASHINGTON (Reuters) - U.S. President Donald T...         true  "
      ]
     },
     "execution_count": 3,
     "metadata": {},
     "output_type": "execute_result"
    }
   ],
   "source": [
    "df.head()"
   ]
  },
  {
   "cell_type": "code",
   "execution_count": null,
   "id": "360b44de",
   "metadata": {},
   "outputs": [],
   "source": []
  }
 ],
 "metadata": {
  "kernelspec": {
   "display_name": "Python 3 (ipykernel)",
   "language": "python",
   "name": "python3"
  },
  "language_info": {
   "codemirror_mode": {
    "name": "ipython",
    "version": 3
   },
   "file_extension": ".py",
   "mimetype": "text/x-python",
   "name": "python",
   "nbconvert_exporter": "python",
   "pygments_lexer": "ipython3",
   "version": "3.9.4"
  }
 },
 "nbformat": 4,
 "nbformat_minor": 5
}
